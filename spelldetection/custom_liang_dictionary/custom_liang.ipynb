{
 "cells": [
  {
   "cell_type": "code",
   "execution_count": 1,
   "id": "1660a3b9-3416-4822-bf8b-481a251e629c",
   "metadata": {},
   "outputs": [],
   "source": [
    "import pandas as pd"
   ]
  },
  {
   "cell_type": "code",
   "execution_count": 2,
   "id": "97fb2f31-6946-4171-bd53-0be6ccace525",
   "metadata": {},
   "outputs": [],
   "source": [
    "import time"
   ]
  },
  {
   "cell_type": "code",
   "execution_count": 3,
   "id": "cde62af0-8910-4f4a-b4b3-ab5815e8b5b4",
   "metadata": {},
   "outputs": [],
   "source": [
    "import pyphen"
   ]
  },
  {
   "cell_type": "code",
   "execution_count": 7,
   "id": "959c0d60-32f1-4454-a91e-54746ec99e24",
   "metadata": {},
   "outputs": [],
   "source": [
    "word_list = pd.read_csv('trog.csv')"
   ]
  },
  {
   "cell_type": "code",
   "execution_count": 4,
   "id": "6cf7bc50-40d6-4128-9c68-12f1dcad9f21",
   "metadata": {},
   "outputs": [],
   "source": [
    "pyphen.language_fallback('nl_NL_variant1')\n",
    "dic_custom = pyphen.Pyphen(lang='_cus_twee', left=1, right=1)  # Laden van custom hyphenating pattern file (genaamde _cus_twee)"
   ]
  },
  {
   "cell_type": "code",
   "execution_count": 6,
   "id": "15aa69f6-0413-4e9a-b2e5-0f64a577decc",
   "metadata": {},
   "outputs": [],
   "source": [
    "def dehyphenate(word):    \n",
    "    return word.replace('-','')"
   ]
  },
  {
   "cell_type": "code",
   "execution_count": 8,
   "id": "bc71d613-a69e-4d67-b776-0c56451a317f",
   "metadata": {},
   "outputs": [],
   "source": [
    "correct = 0\n",
    "incorrect = 0"
   ]
  },
  {
   "cell_type": "code",
   "execution_count": 10,
   "id": "713b36c1-8807-4823-a577-3f28de351641",
   "metadata": {},
   "outputs": [
    {
     "name": "stdout",
     "output_type": "stream",
     "text": [
      "Incorrect gehypheneerde woorden uit de CELEX woordenlijst (34 in totaal):",
      "ais a-is\n",
      "be-zi-en be-zien\n",
      "con-fe-rence con-fe-ren-ce\n",
      "coupe cou-pe\n",
      "coupes cou-pes\n",
      "deist de-ist\n",
      "di-es dies\n",
      "e-is eis\n",
      "file fi-le\n",
      "kaar-tje kaart-je\n",
      "kaar-tjes kaart-jes\n",
      "ko-riste-tje ko-ris-te-tje\n",
      "lie-ren li-e-ren\n",
      "ma-tje mat-je\n",
      "ma-tjes mat-jes\n",
      "moe-tje moet-je\n",
      "moe-tjes moet-jes\n",
      "of-fi-ci-e-ren of-fi-cie-ren\n",
      "pat-je pa-tje\n",
      "pat-jes pa-tjes\n",
      "pi-nas pinas\n",
      "pin-as pinas\n",
      "po-e-ma poe-ma\n",
      "pri-e-len prie-len\n",
      "rui-nen ru-i-nen\n",
      "scene sce-ne\n",
      "spat-je spa-tje\n",
      "spat-jes spa-tjes\n",
      "touche tou-che\n",
      "ui-tje uit-je\n",
      "ui-tjes uit-jes\n",
      "vlot-jes vlo-tjes\n",
      "wets-taal wet-staal\n",
      "zo-e-ven zoe-ven\n",
      "0.011574625697030768\n"
     ]
    }
   ],
   "source": [
    "for word in range(len(word_list)):\n",
    "    \n",
    "    current_word = word_list.iloc[word,0]\n",
    "    dehyph = dehyphenate(current_word)\n",
    "    liang = dic_custom.inserted(dehyph)\n",
    "\n",
    "    pd.Series(liang).to_csv('py_standard.csv', mode='a', index=False, header=False)\n",
    "\n",
    "    if current_word == liang:\n",
    "        correct += 1\n",
    "\n",
    "    else:\n",
    "        incorrect +=1\n",
    "        print(current_word,liang)\n",
    "\n",
    "print(str(incorrect / (correct+incorrect) * 100))"
   ]
  },
  {
   "cell_type": "code",
   "execution_count": 31,
   "id": "1b8924c6-4646-4041-998f-92f08f43a93c",
   "metadata": {},
   "outputs": [
    {
     "data": {
      "text/plain": [
       "293712"
      ]
     },
     "execution_count": 31,
     "metadata": {},
     "output_type": "execute_result"
    }
   ],
   "source": [
    "correct  # Woorden correct gehypheneerd ivm oorspronkelijke CELEX lijst"
   ]
  },
  {
   "cell_type": "code",
   "execution_count": 32,
   "id": "2fa76474-3131-4891-9741-2413c4d02659",
   "metadata": {},
   "outputs": [
    {
     "data": {
      "text/plain": [
       "34"
      ]
     },
     "execution_count": 32,
     "metadata": {},
     "output_type": "execute_result"
    }
   ],
   "source": [
    "incorrect  # Woorden incorrect gehypheneerd ivm oorspronkelijke CELEX lijst"
   ]
  },
  {
   "cell_type": "code",
   "execution_count": 17,
   "id": "1a7bc42b-3b9f-44fc-b9e3-721b0a1d1e65",
   "metadata": {},
   "outputs": [],
   "source": [
    "word_string = ['de', 'opa', 'en', 'de', 'eland', 'aten', 'uienringen', 'bij', 'de', 'oever']"
   ]
  },
  {
   "cell_type": "code",
   "execution_count": 29,
   "id": "5dc6b030-4541-4200-a648-59c68e5a774f",
   "metadata": {},
   "outputs": [],
   "source": [
    "word_string_twee = ['de', 'wetsert', 'en', 'de', 'floespad', 'zwietsten', 'plineair', 'gebaarlijk', 'richting', 'de', 'splinten']"
   ]
  },
  {
   "cell_type": "code",
   "execution_count": 22,
   "id": "85e72ae2-9f7e-40ba-8a32-fb67efc499e3",
   "metadata": {},
   "outputs": [],
   "source": [
    "word_string_drie = ['pratret', 'vloelpentataranieter', 'blenpoeliewakapa', 'twittwattwot', 'wolololo']"
   ]
  },
  {
   "cell_type": "code",
   "execution_count": 24,
   "id": "705e4073-2dc0-4f1a-8d8a-1f455f2cb633",
   "metadata": {},
   "outputs": [
    {
     "name": "stdout",
     "output_type": "stream",
     "text": [
      "de o-pa en de e-land a-ten ui-en-rin-gen bij de oe-ver "
     ]
    }
   ],
   "source": [
    "for word in word_string:\n",
    "    print(dic_custom.inserted(word), end = ' ')  # Testen van woorden beginnend met medeklinker"
   ]
  },
  {
   "cell_type": "code",
   "execution_count": 30,
   "id": "e4b516d5-e8c4-4fe3-bc5a-b21a60855966",
   "metadata": {},
   "outputs": [
    {
     "name": "stdout",
     "output_type": "stream",
     "text": [
      "de wet-sert en de floes-pad zwiet-sten pli-ne-air ge-baar-lijk rich-ting de splin-ten "
     ]
    }
   ],
   "source": [
    "for word in word_string_twee:\n",
    "    print(dic_custom.inserted(word), end = ' ')  # Testen van verzonnen woorden"
   ]
  },
  {
   "cell_type": "code",
   "execution_count": 26,
   "id": "cbb7716e-b5a0-4706-be13-76c5eae50ed4",
   "metadata": {},
   "outputs": [
    {
     "name": "stdout",
     "output_type": "stream",
     "text": [
      "pra-t-ret vloel-pen-ta-ta-ra-nie-t-er blen-poe-lie-wa-k-a-pa twittwat-twot wolo-lo-lo "
     ]
    }
   ],
   "source": [
    "for word in word_string_drie:\n",
    "    print(dic_custom.inserted(word), end = ' ')  # Aantal verzonnen woorden die niet correct worden gehypheneerd"
   ]
  },
  {
   "cell_type": "code",
   "execution_count": null,
   "id": "55c217b2-8b9f-41f0-9253-2e73c80bb1e0",
   "metadata": {},
   "outputs": [],
   "source": []
  }
 ],
 "metadata": {
  "kernelspec": {
   "display_name": "Python 3 (ipykernel)",
   "language": "python",
   "name": "python3"
  },
  "language_info": {
   "codemirror_mode": {
    "name": "ipython",
    "version": 3
   },
   "file_extension": ".py",
   "mimetype": "text/x-python",
   "name": "python",
   "nbconvert_exporter": "python",
   "pygments_lexer": "ipython3",
   "version": "3.12.2"
  }
 },
 "nbformat": 4,
 "nbformat_minor": 5
}
